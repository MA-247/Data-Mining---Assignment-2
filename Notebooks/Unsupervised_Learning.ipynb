{
  "nbformat": 4,
  "nbformat_minor": 0,
  "metadata": {
    "colab": {
      "provenance": []
    },
    "kernelspec": {
      "name": "python3",
      "display_name": "Python 3"
    },
    "language_info": {
      "name": "python"
    }
  },
  "cells": [
    {
      "cell_type": "markdown",
      "source": [
        "# Task 1 - 4"
      ],
      "metadata": {
        "id": "2Xfi57INYf9J"
      }
    },
    {
      "cell_type": "markdown",
      "source": [
        "# Importing Libraries"
      ],
      "metadata": {
        "id": "Psml44pRIn0N"
      }
    },
    {
      "cell_type": "code",
      "source": [
        "import pandas as pd\n",
        "import numpy as np\n",
        "import matplotlib.pyplot as plt\n",
        "import seaborn as sns\n",
        "from sklearn.preprocessing import LabelEncoder, StandardScaler\n",
        "from sklearn.cluster import KMeans\n",
        "from sklearn.metrics import silhouette_score\n",
        "import matplotlib.pyplot as plt\n",
        "from sklearn.cluster import AgglomerativeClustering\n",
        "import scipy.cluster.hierarchy as sch\n",
        "from sklearn.feature_selection import RFE\n",
        "from sklearn.linear_model import LogisticRegression"
      ],
      "metadata": {
        "id": "8_ZEVLlxH-R4"
      },
      "execution_count": 29,
      "outputs": []
    },
    {
      "cell_type": "markdown",
      "source": [
        "# Loading Dataset"
      ],
      "metadata": {
        "id": "aS_Qzm8BHrpp"
      }
    },
    {
      "cell_type": "code",
      "execution_count": 30,
      "metadata": {
        "colab": {
          "base_uri": "https://localhost:8080/"
        },
        "id": "VXlNO-lcHgdr",
        "outputId": "324575f6-bca2-494f-bddb-7393d4dfc7e3"
      },
      "outputs": [
        {
          "output_type": "stream",
          "name": "stdout",
          "text": [
            "Dataset Head:\n",
            "    CustomerID   Genre  Age  Annual Income (k$)  Spending Score (1-100)\n",
            "0           1    Male   19                  15                      39\n",
            "1           2    Male   21                  15                      81\n",
            "2           3  Female   20                  16                       6\n",
            "3           4  Female   23                  16                      77\n",
            "4           5  Female   31                  17                      40\n",
            "\n",
            "Dataset Info:\n",
            "\n",
            "<class 'pandas.core.frame.DataFrame'>\n",
            "RangeIndex: 200 entries, 0 to 199\n",
            "Data columns (total 5 columns):\n",
            " #   Column                  Non-Null Count  Dtype \n",
            "---  ------                  --------------  ----- \n",
            " 0   CustomerID              200 non-null    int64 \n",
            " 1   Genre                   200 non-null    object\n",
            " 2   Age                     200 non-null    int64 \n",
            " 3   Annual Income (k$)      200 non-null    int64 \n",
            " 4   Spending Score (1-100)  200 non-null    int64 \n",
            "dtypes: int64(4), object(1)\n",
            "memory usage: 7.9+ KB\n",
            "None\n",
            "\n",
            "Summary Statistics:\n",
            "        CustomerID         Age  Annual Income (k$)  Spending Score (1-100)\n",
            "count  200.000000  200.000000          200.000000              200.000000\n",
            "mean   100.500000   38.850000           60.560000               50.200000\n",
            "std     57.879185   13.969007           26.264721               25.823522\n",
            "min      1.000000   18.000000           15.000000                1.000000\n",
            "25%     50.750000   28.750000           41.500000               34.750000\n",
            "50%    100.500000   36.000000           61.500000               50.000000\n",
            "75%    150.250000   49.000000           78.000000               73.000000\n",
            "max    200.000000   70.000000          137.000000               99.000000\n"
          ]
        }
      ],
      "source": [
        "data = pd.read_csv('Mall_Customers.csv')\n",
        "\n",
        "print(\"Dataset Head:\\n\", data.head())\n",
        "print(\"\\nDataset Info:\\n\")\n",
        "print(data.info())\n",
        "print(\"\\nSummary Statistics:\\n\", data.describe())"
      ]
    },
    {
      "cell_type": "markdown",
      "source": [
        "#Pre-processing"
      ],
      "metadata": {
        "id": "SIS9Ha_RIWTV"
      }
    },
    {
      "cell_type": "markdown",
      "source": [
        "Missing Values"
      ],
      "metadata": {
        "id": "MBfz9obJIZBe"
      }
    },
    {
      "cell_type": "code",
      "source": [
        "# Checking for missing values\n",
        "print(\"\\nMissing Values:\\n\", data.isnull().sum())"
      ],
      "metadata": {
        "colab": {
          "base_uri": "https://localhost:8080/"
        },
        "id": "leLuypUSIFGX",
        "outputId": "d1524ce1-978a-438f-bc86-0b911a420767"
      },
      "execution_count": 31,
      "outputs": [
        {
          "output_type": "stream",
          "name": "stdout",
          "text": [
            "\n",
            "Missing Values:\n",
            " CustomerID                0\n",
            "Genre                     0\n",
            "Age                       0\n",
            "Annual Income (k$)        0\n",
            "Spending Score (1-100)    0\n",
            "dtype: int64\n"
          ]
        }
      ]
    },
    {
      "cell_type": "markdown",
      "source": [
        "Dropping unnecessary features"
      ],
      "metadata": {
        "id": "KukCVyDnIhB1"
      }
    },
    {
      "cell_type": "code",
      "source": [
        "# Dropping 'CustomerID' column as it is not needed for analysis or model training\n",
        "data.drop(columns=['CustomerID'], inplace=True)"
      ],
      "metadata": {
        "id": "nNjD5v9lIFDt"
      },
      "execution_count": 32,
      "outputs": []
    },
    {
      "cell_type": "markdown",
      "source": [
        "Label encoding"
      ],
      "metadata": {
        "id": "iECiCYeXIjf0"
      }
    },
    {
      "cell_type": "code",
      "source": [
        "#Fixing misspelling\n",
        "data.rename(columns={'Genre': 'Gender'}, inplace=True)"
      ],
      "metadata": {
        "id": "_92-4NavMzf6"
      },
      "execution_count": 34,
      "outputs": []
    },
    {
      "cell_type": "code",
      "source": [
        "\n",
        "# Label Encoding\n",
        "label_encoder = LabelEncoder()\n",
        "data['Gender'] = label_encoder.fit_transform(data['Gender'])\n",
        "\n"
      ],
      "metadata": {
        "id": "85TOfBsxIFBP"
      },
      "execution_count": 35,
      "outputs": []
    },
    {
      "cell_type": "markdown",
      "source": [
        "Feature Scaling"
      ],
      "metadata": {
        "id": "nGHMaypVIsNa"
      }
    },
    {
      "cell_type": "code",
      "source": [
        "# Feature Scaling\n",
        "scaler = StandardScaler()\n",
        "data[['Age', 'Annual Income (k$)', 'Spending Score (1-100)']] = scaler.fit_transform(\n",
        "    data[['Age', 'Annual Income (k$)', 'Spending Score (1-100)']])\n",
        "\n",
        "print(\"\\nPreprocessed Data Head:\\n\", data.head())"
      ],
      "metadata": {
        "colab": {
          "base_uri": "https://localhost:8080/"
        },
        "id": "zxC4uW_WIE-x",
        "outputId": "445b0495-643c-46e6-d8cd-9cfc98bcd9c6"
      },
      "execution_count": 36,
      "outputs": [
        {
          "output_type": "stream",
          "name": "stdout",
          "text": [
            "\n",
            "Preprocessed Data Head:\n",
            "    Gender       Age  Annual Income (k$)  Spending Score (1-100)\n",
            "0       1 -1.424569           -1.738999               -0.434801\n",
            "1       1 -1.281035           -1.738999                1.195704\n",
            "2       0 -1.352802           -1.700830               -1.715913\n",
            "3       0 -1.137502           -1.700830                1.040418\n",
            "4       0 -0.563369           -1.662660               -0.395980\n"
          ]
        }
      ]
    },
    {
      "cell_type": "markdown",
      "source": [
        "# Unsupervised Learning"
      ],
      "metadata": {
        "id": "2nSbrMSHI7A-"
      }
    },
    {
      "cell_type": "code",
      "source": [
        "X = data[['Age', 'Annual Income (k$)', 'Spending Score (1-100)']]\n"
      ],
      "metadata": {
        "id": "uXaqJg24KQpZ"
      },
      "execution_count": 37,
      "outputs": []
    },
    {
      "cell_type": "markdown",
      "source": [
        "K Mean Clustering"
      ],
      "metadata": {
        "id": "vFoN41O-I9iR"
      }
    },
    {
      "cell_type": "code",
      "source": [
        "wcss = []\n",
        "for i in range(1, 11):\n",
        "    kmeans = KMeans(n_clusters=i, random_state=42)\n",
        "    kmeans.fit(X)\n",
        "    wcss.append(kmeans.inertia_)"
      ],
      "metadata": {
        "id": "ODXIqD76IE8K"
      },
      "execution_count": 38,
      "outputs": []
    },
    {
      "cell_type": "code",
      "source": [
        "# Plotting the Elbow Graph\n",
        "plt.plot(range(1, 11), wcss, marker='o')\n",
        "plt.title('Elbow Method for Optimal k')\n",
        "plt.xlabel('Number of Clusters')\n",
        "plt.ylabel('WCSS')\n",
        "plt.show()"
      ],
      "metadata": {
        "colab": {
          "base_uri": "https://localhost:8080/",
          "height": 472
        },
        "id": "IfykKCKqKT75",
        "outputId": "c023249a-3572-4a37-d022-74fbd136cf87"
      },
      "execution_count": 39,
      "outputs": [
        {
          "output_type": "display_data",
          "data": {
            "text/plain": [
              "<Figure size 640x480 with 1 Axes>"
            ],
            "image/png": "[encoded data removed]"
          },
          "metadata": {}
        }
      ]
    },
    {
      "cell_type": "code",
      "source": [
        "kmeans = KMeans(n_clusters=5, random_state=42)\n",
        "data['Cluster'] = kmeans.fit_predict(X)\n",
        "\n",
        "# Calculate Silhouette Score\n",
        "silhouette_avg = silhouette_score(X, data['Cluster'])\n",
        "print(f'Silhouette Score for K-Means: {silhouette_avg:.2f}')\n",
        "\n",
        "print(\"\\nData with Cluster Labels:\\n\", data.head())"
      ],
      "metadata": {
        "colab": {
          "base_uri": "https://localhost:8080/"
        },
        "id": "79ML2isjIE5n",
        "outputId": "df42a33f-687e-4e12-ddab-f7c2193e9387"
      },
      "execution_count": 40,
      "outputs": [
        {
          "output_type": "stream",
          "name": "stdout",
          "text": [
            "Silhouette Score for K-Means: 0.41\n",
            "\n",
            "Data with Cluster Labels:\n",
            "    Gender       Age  Annual Income (k$)  Spending Score (1-100)  Cluster\n",
            "0       1 -1.424569           -1.738999               -0.434801        2\n",
            "1       1 -1.281035           -1.738999                1.195704        2\n",
            "2       0 -1.352802           -1.700830               -1.715913        3\n",
            "3       0 -1.137502           -1.700830                1.040418        2\n",
            "4       0 -0.563369           -1.662660               -0.395980        2\n"
          ]
        }
      ]
    },
    {
      "cell_type": "code",
      "source": [
        "plt.figure(figsize=(10, 7))\n",
        "dendrogram = sch.dendrogram(sch.linkage(X, method='ward'))\n",
        "plt.title('Dendrogram for Optimal Clusters')\n",
        "plt.xlabel('Customers')\n",
        "plt.ylabel('Euclidean Distances')\n",
        "plt.show()\n"
      ],
      "metadata": {
        "colab": {
          "base_uri": "https://localhost:8080/",
          "height": 635
        },
        "id": "VQSXXBBeIE3A",
        "outputId": "b382955f-0656-425e-92ff-6d57d39b5241"
      },
      "execution_count": 41,
      "outputs": [
        {
          "output_type": "display_data",
          "data": {
            "text/plain": [
              "<Figure size 1000x700 with 1 Axes>"
            ],
            "image/png": "[encoded data removed]"
          },
          "metadata": {}
        }
      ]
    },
    {
      "cell_type": "code",
      "source": [
        "\n",
        "# Applying Agglomerative Clustering with the optimal number of clusters (e.g., 5 from dendrogram)\n",
        "agg_cluster = AgglomerativeClustering(n_clusters=5, metric='euclidean', linkage='ward')\n",
        "data['Agglomerative_Cluster'] = agg_cluster.fit_predict(X)\n",
        "\n",
        "\n"
      ],
      "metadata": {
        "id": "eBsx63pcK24G"
      },
      "execution_count": 42,
      "outputs": []
    },
    {
      "cell_type": "code",
      "source": [
        "# Calculate Silhouette Score for Agglomerative Clustering\n",
        "silhouette_avg_agg = silhouette_score(X, data['Agglomerative_Cluster'])\n",
        "print(f'Silhouette Score for Agglomerative Clustering: {silhouette_avg_agg:.2f}')\n"
      ],
      "metadata": {
        "colab": {
          "base_uri": "https://localhost:8080/"
        },
        "id": "bm7l-ZENK21x",
        "outputId": "4afd87b7-504c-410e-cc0a-e6fd3a462be4"
      },
      "execution_count": 43,
      "outputs": [
        {
          "output_type": "stream",
          "name": "stdout",
          "text": [
            "Silhouette Score for Agglomerative Clustering: 0.39\n"
          ]
        }
      ]
    },
    {
      "cell_type": "code",
      "source": [
        "\n",
        "# Displaying the first few rows with the new cluster labels\n",
        "print(\"\\nData with Agglomerative Cluster Labels:\\n\", data.head())"
      ],
      "metadata": {
        "colab": {
          "base_uri": "https://localhost:8080/"
        },
        "id": "Esgz_1Y5K2zO",
        "outputId": "2ab68887-9504-489e-b840-2a8aa5657eeb"
      },
      "execution_count": 44,
      "outputs": [
        {
          "output_type": "stream",
          "name": "stdout",
          "text": [
            "\n",
            "Data with Agglomerative Cluster Labels:\n",
            "    Gender       Age  Annual Income (k$)  Spending Score (1-100)  Cluster  \\\n",
            "0       1 -1.424569           -1.738999               -0.434801        2   \n",
            "1       1 -1.281035           -1.738999                1.195704        2   \n",
            "2       0 -1.352802           -1.700830               -1.715913        3   \n",
            "3       0 -1.137502           -1.700830                1.040418        2   \n",
            "4       0 -0.563369           -1.662660               -0.395980        2   \n",
            "\n",
            "   Agglomerative_Cluster  \n",
            "0                      4  \n",
            "1                      0  \n",
            "2                      4  \n",
            "3                      0  \n",
            "4                      4  \n"
          ]
        }
      ]
    },
    {
      "cell_type": "markdown",
      "source": [
        "# Silhouette Score\n",
        "\n",
        "K Mean: 0.36\n",
        "Agglomerative Clustering: 0.44"
      ],
      "metadata": {
        "id": "HpqYVIRALcAq"
      }
    },
    {
      "cell_type": "markdown",
      "source": [
        "# Feature Selection"
      ],
      "metadata": {
        "id": "7Ifh9-mLMAgj"
      }
    },
    {
      "cell_type": "markdown",
      "source": [
        "Using Recursive Feature Elimination (RFE)"
      ],
      "metadata": {
        "id": "tahvzTPVMB7J"
      }
    },
    {
      "cell_type": "code",
      "source": [
        "X = data.drop(columns=['Cluster'])\n",
        "y = data['Cluster']\n",
        "\n"
      ],
      "metadata": {
        "id": "hFecavnxLZP6"
      },
      "execution_count": 46,
      "outputs": []
    },
    {
      "cell_type": "code",
      "source": [
        "model = LogisticRegression()\n",
        "rfe = RFE(model, n_features_to_select=2)\n",
        "X_selected = rfe.fit_transform(X, y)\n",
        "\n"
      ],
      "metadata": {
        "id": "pzVMyFiaK2wm"
      },
      "execution_count": 47,
      "outputs": []
    },
    {
      "cell_type": "code",
      "source": [
        "print(\"Selected Features (Based on RFE):\", rfe.support_)\n",
        "print(\"Feature Ranking:\", rfe.ranking_)"
      ],
      "metadata": {
        "colab": {
          "base_uri": "https://localhost:8080/"
        },
        "id": "AY2O3fM9K2uS",
        "outputId": "cd5c84f4-0a7b-407b-cab5-19a91a4f8648"
      },
      "execution_count": 48,
      "outputs": [
        {
          "output_type": "stream",
          "name": "stdout",
          "text": [
            "Selected Features (Based on RFE): [False False  True  True False]\n",
            "Feature Ranking: [4 2 1 1 3]\n"
          ]
        }
      ]
    },
    {
      "cell_type": "markdown",
      "source": [
        "New CSV file with the selected features only"
      ],
      "metadata": {
        "id": "vfPE5HzINWfA"
      }
    },
    {
      "cell_type": "code",
      "source": [
        "selected_features = X.columns[rfe.support_]\n",
        "\n",
        "data_selected = data[selected_features]\n",
        "\n",
        "data_selected.to_csv('selected_features.csv', index=False)\n",
        "\n",
        "print(\"New CSV file with selected features saved as 'selected_features.csv'.\")"
      ],
      "metadata": {
        "colab": {
          "base_uri": "https://localhost:8080/"
        },
        "id": "IQV8nX7rNdcU",
        "outputId": "0eaf5571-17f4-4f7d-b63d-58a113f3858c"
      },
      "execution_count": 49,
      "outputs": [
        {
          "output_type": "stream",
          "name": "stdout",
          "text": [
            "New CSV file with selected features saved as 'selected_features.csv'.\n"
          ]
        }
      ]
    },
    {
      "cell_type": "markdown",
      "source": [
        "# Supervised Leanring"
      ],
      "metadata": {
        "id": "veZdVhzVSqr3"
      }
    },
    {
      "cell_type": "markdown",
      "source": [
        "Before Moving to Supervised Learning, we have to add a target class for the classifiers to predict as the orignal dataset does not have such feature, we will add it using clustering."
      ],
      "metadata": {
        "id": "xCdsKU0XSUY3"
      }
    },
    {
      "cell_type": "code",
      "source": [
        "data = pd.read_csv('selected_features.csv')\n",
        "\n",
        "X = data[['Annual Income (k$)', 'Spending Score (1-100)']]\n",
        "\n",
        "agg_cluster = AgglomerativeClustering(n_clusters=5, metric='euclidean', linkage='ward')\n",
        "data['Agglomerative_Cluster'] = agg_cluster.fit_predict(X)\n",
        "\n",
        "print(data.head())\n"
      ],
      "metadata": {
        "colab": {
          "base_uri": "https://localhost:8080/"
        },
        "id": "JYBd5ELaSBgu",
        "outputId": "749a5355-6379-4be1-ea08-be3e2cae6c37"
      },
      "execution_count": 58,
      "outputs": [
        {
          "output_type": "stream",
          "name": "stdout",
          "text": [
            "   Annual Income (k$)  Spending Score (1-100)  Agglomerative_Cluster\n",
            "0           -1.738999               -0.434801                      4\n",
            "1           -1.738999                1.195704                      3\n",
            "2           -1.700830               -1.715913                      4\n",
            "3           -1.700830                1.040418                      3\n",
            "4           -1.662660               -0.395980                      4\n"
          ]
        }
      ]
    },
    {
      "cell_type": "markdown",
      "source": [
        "Now, we have \"Customer Segmeent\" as our target for classification"
      ],
      "metadata": {
        "id": "DSMeczPxSiaR"
      }
    }
  ]
}