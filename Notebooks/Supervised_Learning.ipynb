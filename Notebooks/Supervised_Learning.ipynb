{
  "nbformat": 4,
  "nbformat_minor": 0,
  "metadata": {
    "colab": {
      "provenance": []
    },
    "kernelspec": {
      "name": "python3",
      "display_name": "Python 3"
    },
    "language_info": {
      "name": "python"
    }
  },
  "cells": [
    {
      "cell_type": "markdown",
      "source": [
        "# Task 5"
      ],
      "metadata": {
        "id": "7iNYCEuuS7bL"
      }
    },
    {
      "cell_type": "code",
      "source": [
        "from sklearn.cluster import AgglomerativeClustering\n",
        "import pandas as pd\n",
        "from sklearn.model_selection import train_test_split\n",
        "\n",
        "from sklearn.ensemble import RandomForestClassifier\n",
        "from sklearn.metrics import classification_report, confusion_matrix, accuracy_score\n",
        "\n",
        "from sklearn.linear_model import LogisticRegression\n",
        "from sklearn.svm import SVC\n",
        "from sklearn.neighbors import KNeighborsClassifier\n",
        "from sklearn.ensemble import GradientBoostingClassifier\n",
        "import xgboost as xgb"
      ],
      "metadata": {
        "id": "mrwjWx-ZUcAZ"
      },
      "execution_count": 17,
      "outputs": []
    },
    {
      "cell_type": "markdown",
      "source": [
        "# Supervised Leanring"
      ],
      "metadata": {
        "id": "veZdVhzVSqr3"
      }
    },
    {
      "cell_type": "markdown",
      "source": [
        "Before Moving to Supervised Learning, we have to add a target class for the classifiers to predict as the orignal dataset does not have such feature, we will add it using clustering."
      ],
      "metadata": {
        "id": "xCdsKU0XSUY3"
      }
    },
    {
      "cell_type": "code",
      "source": [
        "data = pd.read_csv('selected_features.csv')\n",
        "\n",
        "X = data[['Annual Income (k$)', 'Spending Score (1-100)']]\n",
        "\n",
        "agg_cluster = AgglomerativeClustering(n_clusters=5, metric='euclidean', linkage='ward')\n",
        "data['CustomerSegment'] = agg_cluster.fit_predict(X)\n",
        "\n",
        "print(data.head())\n"
      ],
      "metadata": {
        "colab": {
          "base_uri": "https://localhost:8080/"
        },
        "id": "JYBd5ELaSBgu",
        "outputId": "94fd4643-126a-41d5-bebf-f5ad8695bc5d"
      },
      "execution_count": 7,
      "outputs": [
        {
          "output_type": "stream",
          "name": "stdout",
          "text": [
            "   Annual Income (k$)  Spending Score (1-100)  CustomerSegment\n",
            "0           -1.738999               -0.434801                4\n",
            "1           -1.738999                1.195704                3\n",
            "2           -1.700830               -1.715913                4\n",
            "3           -1.700830                1.040418                3\n",
            "4           -1.662660               -0.395980                4\n"
          ]
        }
      ]
    },
    {
      "cell_type": "markdown",
      "source": [
        "Now, we have \"Customer Segment\" as our target for classification"
      ],
      "metadata": {
        "id": "DSMeczPxSiaR"
      }
    },
    {
      "cell_type": "code",
      "source": [
        "# Assume 'CustomerSegment' is the target column\n",
        "X = data.drop(columns=['CustomerSegment'])\n",
        "y = data['CustomerSegment']\n"
      ],
      "metadata": {
        "id": "Jla9pzzqTvL_"
      },
      "execution_count": 11,
      "outputs": []
    },
    {
      "cell_type": "code",
      "source": [
        "# Train-test split\n",
        "X_train, X_test, y_train, y_test = train_test_split(X, y, test_size=0.2, random_state=24)\n",
        "\n"
      ],
      "metadata": {
        "id": "pvAqeXPSTvHQ"
      },
      "execution_count": 14,
      "outputs": []
    },
    {
      "cell_type": "markdown",
      "source": [
        "Random Forest Classifier"
      ],
      "metadata": {
        "id": "G76h7ud_W0o7"
      }
    },
    {
      "cell_type": "code",
      "source": [
        "# Initialize RandomForestClassifier\n",
        "rf = RandomForestClassifier(random_state=42)\n",
        "\n",
        "# Fit the model\n",
        "rf.fit(X_train, y_train)\n",
        "\n",
        "# Make predictions\n",
        "y_pred = rf.predict(X_test)\n",
        "\n",
        "# Evaluate the classifier\n",
        "print(\"Accuracy:\", accuracy_score(y_test, y_pred))\n",
        "print(\"Classification Report:\\n\", classification_report(y_test, y_pred))\n",
        "print(\"Confusion Matrix:\\n\", confusion_matrix(y_test, y_pred))"
      ],
      "metadata": {
        "colab": {
          "base_uri": "https://localhost:8080/"
        },
        "id": "fZ0x-T79TvBq",
        "outputId": "531191fb-840f-42f3-d7a8-ad0fccd65b77"
      },
      "execution_count": 16,
      "outputs": [
        {
          "output_type": "stream",
          "name": "stdout",
          "text": [
            "Accuracy: 0.95\n",
            "Classification Report:\n",
            "               precision    recall  f1-score   support\n",
            "\n",
            "           0       1.00      0.78      0.88         9\n",
            "           1       1.00      1.00      1.00         7\n",
            "           2       0.89      1.00      0.94        17\n",
            "           3       1.00      1.00      1.00         4\n",
            "           4       1.00      1.00      1.00         3\n",
            "\n",
            "    accuracy                           0.95        40\n",
            "   macro avg       0.98      0.96      0.96        40\n",
            "weighted avg       0.96      0.95      0.95        40\n",
            "\n",
            "Confusion Matrix:\n",
            " [[ 7  0  2  0  0]\n",
            " [ 0  7  0  0  0]\n",
            " [ 0  0 17  0  0]\n",
            " [ 0  0  0  4  0]\n",
            " [ 0  0  0  0  3]]\n"
          ]
        }
      ]
    },
    {
      "cell_type": "markdown",
      "source": [
        "SVM"
      ],
      "metadata": {
        "id": "jTJbEkU5W6cr"
      }
    },
    {
      "cell_type": "code",
      "source": [
        "# 2. Support Vector Machine (SVM)\n",
        "svm = SVC(random_state=42)\n",
        "svm.fit(X_train, y_train)\n",
        "y_pred_svm = svm.predict(X_test)\n",
        "print(\"SVM - Accuracy:\", accuracy_score(y_test, y_pred_svm))\n",
        "print(\"Classification Report:\\n\", classification_report(y_test, y_pred_svm))\n",
        "print(\"Confusion Matrix:\\n\", confusion_matrix(y_test, y_pred_svm))\n"
      ],
      "metadata": {
        "colab": {
          "base_uri": "https://localhost:8080/"
        },
        "id": "H0l39PXjTu_Z",
        "outputId": "92e44617-6ccf-476d-e36e-047792d0f628"
      },
      "execution_count": 18,
      "outputs": [
        {
          "output_type": "stream",
          "name": "stdout",
          "text": [
            "SVM - Accuracy: 1.0\n",
            "Classification Report:\n",
            "               precision    recall  f1-score   support\n",
            "\n",
            "           0       1.00      1.00      1.00         9\n",
            "           1       1.00      1.00      1.00         7\n",
            "           2       1.00      1.00      1.00        17\n",
            "           3       1.00      1.00      1.00         4\n",
            "           4       1.00      1.00      1.00         3\n",
            "\n",
            "    accuracy                           1.00        40\n",
            "   macro avg       1.00      1.00      1.00        40\n",
            "weighted avg       1.00      1.00      1.00        40\n",
            "\n",
            "Confusion Matrix:\n",
            " [[ 9  0  0  0  0]\n",
            " [ 0  7  0  0  0]\n",
            " [ 0  0 17  0  0]\n",
            " [ 0  0  0  4  0]\n",
            " [ 0  0  0  0  3]]\n"
          ]
        }
      ]
    },
    {
      "cell_type": "markdown",
      "source": [
        "KNN"
      ],
      "metadata": {
        "id": "cOaGxAW9XEmA"
      }
    },
    {
      "cell_type": "code",
      "source": [
        "knn = KNeighborsClassifier()\n",
        "knn.fit(X_train, y_train)\n",
        "y_pred_knn = knn.predict(X_test)\n",
        "print(\"KNN - Accuracy:\", accuracy_score(y_test, y_pred_knn))\n",
        "print(\"Classification Report:\\n\", classification_report(y_test, y_pred_knn))\n",
        "print(\"Confusion Matrix:\\n\", confusion_matrix(y_test, y_pred_knn))"
      ],
      "metadata": {
        "colab": {
          "base_uri": "https://localhost:8080/"
        },
        "id": "18w7MDUZW3Y6",
        "outputId": "6c806e33-53bb-4c88-8cd1-8c68962d8d69"
      },
      "execution_count": 19,
      "outputs": [
        {
          "output_type": "stream",
          "name": "stdout",
          "text": [
            "KNN - Accuracy: 1.0\n",
            "Classification Report:\n",
            "               precision    recall  f1-score   support\n",
            "\n",
            "           0       1.00      1.00      1.00         9\n",
            "           1       1.00      1.00      1.00         7\n",
            "           2       1.00      1.00      1.00        17\n",
            "           3       1.00      1.00      1.00         4\n",
            "           4       1.00      1.00      1.00         3\n",
            "\n",
            "    accuracy                           1.00        40\n",
            "   macro avg       1.00      1.00      1.00        40\n",
            "weighted avg       1.00      1.00      1.00        40\n",
            "\n",
            "Confusion Matrix:\n",
            " [[ 9  0  0  0  0]\n",
            " [ 0  7  0  0  0]\n",
            " [ 0  0 17  0  0]\n",
            " [ 0  0  0  4  0]\n",
            " [ 0  0  0  0  3]]\n"
          ]
        }
      ]
    },
    {
      "cell_type": "markdown",
      "source": [
        "Gradient Boosting"
      ],
      "metadata": {
        "id": "AraS1Qs9XHXR"
      }
    },
    {
      "cell_type": "code",
      "source": [
        "grad_boost = GradientBoostingClassifier(random_state=42)\n",
        "grad_boost.fit(X_train, y_train)\n",
        "y_pred_grad_boost = grad_boost.predict(X_test)\n",
        "print(\"Gradient Boosting - Accuracy:\", accuracy_score(y_test, y_pred_grad_boost))\n",
        "print(\"Classification Report:\\n\", classification_report(y_test, y_pred_grad_boost))\n",
        "print(\"Confusion Matrix:\\n\", confusion_matrix(y_test, y_pred_grad_boost))\n"
      ],
      "metadata": {
        "colab": {
          "base_uri": "https://localhost:8080/"
        },
        "id": "8nfHqvi7W3Wn",
        "outputId": "3d81ff38-20cb-4992-8ed5-55857c1d9d29"
      },
      "execution_count": 20,
      "outputs": [
        {
          "output_type": "stream",
          "name": "stdout",
          "text": [
            "Gradient Boosting - Accuracy: 0.925\n",
            "Classification Report:\n",
            "               precision    recall  f1-score   support\n",
            "\n",
            "           0       1.00      0.67      0.80         9\n",
            "           1       1.00      1.00      1.00         7\n",
            "           2       0.85      1.00      0.92        17\n",
            "           3       1.00      1.00      1.00         4\n",
            "           4       1.00      1.00      1.00         3\n",
            "\n",
            "    accuracy                           0.93        40\n",
            "   macro avg       0.97      0.93      0.94        40\n",
            "weighted avg       0.94      0.93      0.92        40\n",
            "\n",
            "Confusion Matrix:\n",
            " [[ 6  0  3  0  0]\n",
            " [ 0  7  0  0  0]\n",
            " [ 0  0 17  0  0]\n",
            " [ 0  0  0  4  0]\n",
            " [ 0  0  0  0  3]]\n"
          ]
        }
      ]
    },
    {
      "cell_type": "markdown",
      "source": [
        "XGBoost"
      ],
      "metadata": {
        "id": "dI4UtpjfXK1d"
      }
    },
    {
      "cell_type": "code",
      "source": [
        "xgb_model = xgb.XGBClassifier(random_state=42)\n",
        "xgb_model.fit(X_train, y_train)\n",
        "y_pred_xgb = xgb_model.predict(X_test)\n",
        "print(\"XGBoost - Accuracy:\", accuracy_score(y_test, y_pred_xgb))\n",
        "print(\"Classification Report:\\n\", classification_report(y_test, y_pred_xgb))\n",
        "print(\"Confusion Matrix:\\n\", confusion_matrix(y_test, y_pred_xgb))"
      ],
      "metadata": {
        "colab": {
          "base_uri": "https://localhost:8080/"
        },
        "id": "KHmW5vqvW3UO",
        "outputId": "03c8b002-31e3-44e8-f3f5-c6c698a173ba"
      },
      "execution_count": 21,
      "outputs": [
        {
          "output_type": "stream",
          "name": "stdout",
          "text": [
            "XGBoost - Accuracy: 0.925\n",
            "Classification Report:\n",
            "               precision    recall  f1-score   support\n",
            "\n",
            "           0       1.00      0.67      0.80         9\n",
            "           1       1.00      1.00      1.00         7\n",
            "           2       0.85      1.00      0.92        17\n",
            "           3       1.00      1.00      1.00         4\n",
            "           4       1.00      1.00      1.00         3\n",
            "\n",
            "    accuracy                           0.93        40\n",
            "   macro avg       0.97      0.93      0.94        40\n",
            "weighted avg       0.94      0.93      0.92        40\n",
            "\n",
            "Confusion Matrix:\n",
            " [[ 6  0  3  0  0]\n",
            " [ 0  7  0  0  0]\n",
            " [ 0  0 17  0  0]\n",
            " [ 0  0  0  4  0]\n",
            " [ 0  0  0  0  3]]\n"
          ]
        }
      ]
    },
    {
      "cell_type": "code",
      "source": [],
      "metadata": {
        "id": "8Joh_jo9W3Rq"
      },
      "execution_count": null,
      "outputs": []
    },
    {
      "cell_type": "code",
      "source": [],
      "metadata": {
        "id": "l3nFNykSW3PT"
      },
      "execution_count": null,
      "outputs": []
    },
    {
      "cell_type": "code",
      "source": [],
      "metadata": {
        "id": "r94feHeWW3M2"
      },
      "execution_count": null,
      "outputs": []
    },
    {
      "cell_type": "code",
      "source": [],
      "metadata": {
        "id": "dO2OOjaLW3KS"
      },
      "execution_count": null,
      "outputs": []
    },
    {
      "cell_type": "code",
      "source": [],
      "metadata": {
        "id": "_Hbq4DKfTu80"
      },
      "execution_count": null,
      "outputs": []
    }
  ]
}