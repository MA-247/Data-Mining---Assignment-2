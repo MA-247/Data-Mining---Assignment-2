{
  "nbformat": 4,
  "nbformat_minor": 0,
  "metadata": {
    "colab": {
      "provenance": []
    },
    "kernelspec": {
      "name": "python3",
      "display_name": "Python 3"
    },
    "language_info": {
      "name": "python"
    }
  },
  "cells": [
    {
      "cell_type": "markdown",
      "source": [
        "# Task 6"
      ],
      "metadata": {
        "id": "SgaGOj3iYZsI"
      }
    },
    {
      "cell_type": "markdown",
      "source": [
        "Dataset Used: Iris Dataset from scikit-learn"
      ],
      "metadata": {
        "id": "VWHbKgEqYpnY"
      }
    },
    {
      "cell_type": "markdown",
      "source": [
        "# Importing Libraries"
      ],
      "metadata": {
        "id": "qtmxC7q_Y6N7"
      }
    },
    {
      "cell_type": "code",
      "execution_count": 1,
      "metadata": {
        "id": "9iqeH3udYThs"
      },
      "outputs": [],
      "source": [
        "import numpy as np\n",
        "import pandas as pd\n",
        "from sklearn.datasets import load_iris\n",
        "from sklearn.model_selection import train_test_split\n",
        "from sklearn.preprocessing import StandardScaler\n",
        "from sklearn.decomposition import PCA\n",
        "from sklearn.feature_selection import RFE\n",
        "from sklearn.linear_model import LogisticRegression\n",
        "from sklearn.svm import SVC\n",
        "from sklearn.metrics import accuracy_score\n"
      ]
    },
    {
      "cell_type": "markdown",
      "source": [
        "# Loading Dataset"
      ],
      "metadata": {
        "id": "Q87PzP5iY3ga"
      }
    },
    {
      "cell_type": "code",
      "source": [
        "iris = load_iris()\n",
        "X = iris.data  # Input features\n",
        "y = iris.target  # Output labels\n"
      ],
      "metadata": {
        "id": "-pqcS7JEYzb_"
      },
      "execution_count": 2,
      "outputs": []
    },
    {
      "cell_type": "markdown",
      "source": [
        "# Manually Extracting Features"
      ],
      "metadata": {
        "id": "-RHVnC8EZAWW"
      }
    },
    {
      "cell_type": "markdown",
      "source": [
        "Normalizing the data and extracting statistical features"
      ],
      "metadata": {
        "id": "bSSYeruMZB90"
      }
    },
    {
      "cell_type": "code",
      "source": [
        "mean_features_repeated = np.repeat(mean_features.reshape(1, -1), X_scaled.shape[0], axis=0)\n",
        "std_features_repeated = np.repeat(std_features.reshape(1, -1), X_scaled.shape[0], axis=0)\n",
        "\n",
        "X_manual = np.hstack((X_scaled, mean_features_repeated, std_features_repeated))\n",
        "\n",
        "X_train, X_test, y_train, y_test = train_test_split(X_manual, y, test_size=0.3, random_state=42)\n"
      ],
      "metadata": {
        "id": "Xe86V8AeYzZo"
      },
      "execution_count": 5,
      "outputs": []
    },
    {
      "cell_type": "markdown",
      "source": [
        "# Classification"
      ],
      "metadata": {
        "id": "mgJM9fQDZn6g"
      }
    },
    {
      "cell_type": "markdown",
      "source": [
        "Logistic Regression classifier"
      ],
      "metadata": {
        "id": "yJ6fNLAoZs1F"
      }
    },
    {
      "cell_type": "code",
      "source": [
        "classifier = LogisticRegression(max_iter=200)\n",
        "classifier.fit(X_train, y_train)\n",
        "\n",
        "# Predictions\n",
        "y_pred = classifier.predict(X_test)\n",
        "\n",
        "accuracy_manual = accuracy_score(y_test, y_pred)\n",
        "print(f'Accuracy with manual feature extraction: {accuracy_manual * 100}%')\n"
      ],
      "metadata": {
        "colab": {
          "base_uri": "https://localhost:8080/"
        },
        "id": "jFOeHJCBYzW-",
        "outputId": "15613b7c-fe02-47fc-dfaa-ca844c9ebee4"
      },
      "execution_count": 6,
      "outputs": [
        {
          "output_type": "stream",
          "name": "stdout",
          "text": [
            "Accuracy with manual feature extraction: 100.0%\n"
          ]
        }
      ]
    },
    {
      "cell_type": "markdown",
      "source": [
        "Result: Hundred percent accuracy achieved by manual feature extraction."
      ],
      "metadata": {
        "id": "ddFJzFmtZvs4"
      }
    }
  ]
}